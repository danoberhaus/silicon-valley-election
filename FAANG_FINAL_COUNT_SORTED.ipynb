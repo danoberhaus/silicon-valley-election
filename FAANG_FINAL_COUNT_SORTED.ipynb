{
 "cells": [
  {
   "cell_type": "code",
   "execution_count": 43,
   "metadata": {},
   "outputs": [],
   "source": [
    "import pandas as pd\n",
    "import numpy as np\n",
    "import math\n",
    "\n",
    "Alphabet = pd.read_csv('Alphabet.csv')\n",
    "Amazon = pd.read_csv('Amazon.csv')\n",
    "Apple = pd.read_csv('Apple.csv')\n",
    "Microsoft = pd.read_csv('Microsoft.csv')\n",
    "Facebook = pd.read_csv('Facebook.csv')\n",
    "Oracle = pd.read_csv('Oracle.csv')"
   ]
  },
  {
   "cell_type": "code",
   "execution_count": 44,
   "metadata": {},
   "outputs": [],
   "source": [
    "Alphabet_remove=['ALPHABET SOUP INC','BUTTERFLY ALPHABET INC']\n",
    "Amazon_remove = ['AMAZON CONCRETE', 'BEC-DON RINGGOLD','BRASS RING','BRASS RING AMUSEMENTS', \n",
    "                 'BRASS RING AMUSMENTS','CMC TWITCHELL TIMBERLANDS', 'DENNIS AND SUSAN RING',\n",
    "                 'DON RINGLER CHEVROLET', 'E & S RING MANAGEMENT CORP', \"EVERYBODY'S WHOLE FOODS\",\n",
    "                 'F.M. RING ASSOCIATES INC.','GASKETS O-RINGS RUBBER CORP', 'GEOIW ENGINEER RING INC',\n",
    "                 'GOLDEN RING TRUCKING INC','HARRIS RINGLER DENTAL','LAW OFFICE OF ERIC RING', \n",
    "                 'MARKOWITZ RINGEL', 'MARKOWITZ RINGEL TRUSTY', 'MARKOWITZ RINGEL TRUSTY & HARTOG P.A.', \n",
    "                 'MCINNES ROLLED RINGS','RING BENDER LLP', 'RING CENTRAL', 'RING ENTERPRISES LLC',\n",
    "                 'RING FINANCIAL', 'RING NECK RANCH', 'RING POWER', 'RING POWER CORP', \n",
    "                 'RING POWER CORPORATION', 'RINGCENTRAL', 'RINGCENTRAL INC', 'RINGCENTRAL INC.',\n",
    "                 'RINGDNA INC.', 'RINGEL GROUP', 'RINGFEDER CORPORATION', 'RINGGOLD SCHOOL DISTRICT',\n",
    "                 'RINGLAND JOHNSON', 'RINGLAND-JOHNSON CONSTRUCTION', 'RINGLAND-JOHNSON, INC', \n",
    "                 'RINGLER ASSOCIATES', 'RINGLER OC', 'RINGLER-OC','RINGLING COLLEGE', 'RINGLING COLLEGE OF ART AND DESIGN',\n",
    "                 'RINGLY', 'RINGMASTER ENTERTAINMENT LLC','RINGMI','RINGNECK RANCH', 'RINGPOWER CORP',\n",
    "                 'RINGSBY', 'RINGSIDE', 'RINGSIDE CREATIVE', 'RINGSIDE DEVELOPMENT COMPANY', 'RINGSIDE STEAKHOUSE', \n",
    "                 'RINGVICK RANCH','RINGWRAPS','SMALLEY STEEL RING', 'SMALLEY STEEL RING COMPANY',\n",
    "                 'SOLAR SUN RINGS INC','SW WHOLESALE FOODS LLC', 'TAYLOR & RING', 'THE RING FOUNDATION', 'THREE RING EVENTS',\n",
    "                 'THREE RINGS', 'TRIPLE RING TECH','TRIPLE RING TECHNOLOGIES INC']\n",
    "Apple_remove = ['AMAZING APPLE INC','APPLE & CO','APPLE & CO.', 'APPLE AMERICAN GROUP', 'APPLE AUTO SALES INC','APPLE AUTOS', 'APPLE BANK','APPLE BANK FOR SAVINGS',\n",
    "                'APPLE BLOSSOM MOULDING','APPLE BUS COMPANY','APPLE CORING CORP','APPLE CORPS LTD',\n",
    "                'APPLE CREEK NURSING HOME','APPLE CREEK NURSING HOME AND REHAB CEN','APPLE DESIGNS INC.','APPLE EXTERMINATING',\n",
    "                'APPLE FLAORS & FRAGRANCES USA CORP','APPLE FOODS','APPLE GATE QUINN MAGEE','APPLE GROWER','APPLE GROWTH PARTNERS',\n",
    "                'APPLE HOLDINGS','APPLE HOSPITALITY','APPLE LEASING','APPLE LEISURE GROUP', 'APPLE ONE','APPLE PLUMBING','APPLE RE','APPLE REALTY','APPLE REHAB',\n",
    "                'APPLE ST','APPLE STUDENT TOURS','APPLE TIME INC','APPLE TOWING','APPLE TOWING CO','APPLE TREE INN','APPLE VALLEY BAPTIST CHURCH',\n",
    "                'APPLE VALLEY CARECENTER','APPLE VALLEY CREAMERY','APPLE VALLEY FIRE PROTECTION DISTRICT','APPLE VALLEY PHARMACY',\n",
    "                'APPLE VALLEY TRANSFER','APPLE VALLEY TS','APPLE VALLEY UNIFIED','APPLE VALLEY UNIFIED SCH DIST',\n",
    "                'APPLE VALLEY UNIFIED SCHOOL DISTRICT','APPLE VALLEY UNIFIED SD','APPLE VALLEY USD','APPLEBAUM & STONE, PLC',\n",
    "                'APPLEBEE S',\"APPLEBEE'S\",'APPLEBEES','APPLEBLOSSOM MOULDING AN','APPLEBY SYSTEMS INC',\n",
    "                'APPLECARE','APPLECON LLC','APPLECROSS INC','APPLECROSS INC.','APPLEFIG PRODUCTIONS LLC','APPLEGA LLC',\n",
    "                'APPLEGATE & THORNE-THOMSEN','APPLEGATE & THORNE-THOMSEN P.C.','APPLEGATE AND COMPANY','APPLEGATE INC',\n",
    "                'APPLEGATE QUINN & MAGEE','APPLEGATE REAL ESTATE','APPLEGATE ROGUE BUILDING COMPANY','APPLEGATE WOOD FLOORS','APPLEGATE WOOD FLOORS INC',\n",
    "                'APPLEGATE WOOD FLOORS, INC','APPLEJACK WINE & SPIRITS','APPLEONE','APPLEONE EMPLOYEMENT','APPLEONE EMPLOYMENT','APPLEONE EMPLOYMENT SERVICE',\n",
    "                'APPLEONE TEMPS','APPLERIDGE','APPLEROUTH TUTORING','APPLES AND ORANGES PUBLIC RELATIONS','APPLES NAILS SP',\n",
    "                'APPLES TECHNOLOGIES INC.','APPLESEED', 'APPLESEED VETERINARY HOSPITAL INC', 'APPLESEED VETERINARY HOSPITAL, INC.', 'APPLESTONE HOMES',\n",
    "                'APPLETON CHIROPRACTIC', 'APPLETON LUFF', 'APPLETON PAPERS', 'APPLETON PARTNERS INC.',\n",
    "                'APPLETREE', 'APPLETREE ED DEVEL CENTER', 'APPLETREE HOMES PROPERTIES', 'APPLETREE INSTITUTE', 'APPLEWHITE',\n",
    "                'APPLEWHITE DENTAL PARTNERS', 'APPLEWILD SCHOOL', 'APPLEWOOD LIVING CENTER', 'APPLEYARD AGENCY',\n",
    "                'BERRY APPLEMAN & LEIDEN', 'BERRY APPLEMAN & LEIDEN LLP', 'BERRY APPLEMAN LEIDEN', 'BIG APPLE', 'BIG APPLE ABSTRACT CORP',\n",
    "                'BIG APPLE AUTOMOTIVE', 'BIG APPLE ELEVATOR','BIG APPLE FINER FOODS',\n",
    "                'BIG APPLE GROUP', 'BIG APPLE LAND A CORP', 'CITY OF APPLETON', 'GOLDEN APPLE PRODUCTIONS', 'GREEN APPLE', 'JON APPLETON CONSULTING', 'KIND APPLE LLC',\n",
    "                'LIBERTY APPLE ORCHARD', 'LIBERTY APPLE ORCHARD INC.', 'NEW APPLE FUNDING CORP.', 'PORTER APPLE COMPANY', 'PROJECT APPLECART LLC',\n",
    "                'RADIOLOGY ASSOCIATES OF APPLETON','RED APPLE CAFE', 'RED APPLE GROUP', 'RED APPLE MKT', 'RED APPLE SCHOOL',\n",
    "                'REYNOLDS APPLEGATE INC.', 'ROB APPLEGATE', 'T APPLE GENERAL CONTRACTING','TEXAS APPLESEED','YARBOROUGH APPLEGATE']\n",
    "Oracle_remove = ['ORACLE SCHOOL DISTRICT', 'ORACLE FINANCIAL PLANNERS LLC','ORACLE ELEVATOR']"
   ]
  },
  {
   "cell_type": "code",
   "execution_count": 45,
   "metadata": {},
   "outputs": [],
   "source": [
    "for name in Apple_remove:\n",
    "    Apple = Apple[~Apple.contributor_employer.str.contains(name)]\n",
    "\n",
    "for name in Oracle_remove:\n",
    "    Oracle = Oracle[~Oracle.contributor_employer.str.contains(name)]\n",
    "    \n",
    "for name in Amazon_remove:\n",
    "    Amazon = Amazon[~Amazon.contributor_employer.str.contains(name)]\n",
    "    \n",
    "for name in Alphabet_remove:\n",
    "    Alphabet = Alphabet[~Alphabet.contributor_employer.str.contains(name)]\n",
    "    "
   ]
  },
  {
   "cell_type": "code",
   "execution_count": 46,
   "metadata": {},
   "outputs": [],
   "source": [
    "Alphabet['contributor_employer'] = 'Alphabet'\n",
    "Amazon['contributor_employer'] = 'Amazon'\n",
    "Apple['contributor_employer'] = 'Apple'\n",
    "Facebook['contributor_employer'] = 'Facebook'\n",
    "Microsoft['contributor_employer'] = 'Microsoft'\n",
    "Oracle['contributor_employer'] = 'Oracle'"
   ]
  },
  {
   "cell_type": "code",
   "execution_count": 47,
   "metadata": {},
   "outputs": [],
   "source": [
    "data = [Alphabet, Amazon, Apple, Facebook, Microsoft, Oracle]\n",
    "FAANG = pd.concat(data, sort=False)"
   ]
  },
  {
   "cell_type": "code",
   "execution_count": 48,
   "metadata": {},
   "outputs": [],
   "source": [
    "FAANG_sorted = FAANG.sort_values(['contributor_employer', 'contributor_name', 'report_year','contributor_aggregate_ytd'], ascending=[True, True, False, False])"
   ]
  },
  {
   "cell_type": "code",
   "execution_count": 49,
   "metadata": {},
   "outputs": [],
   "source": [
    "#Drop duplicates of contributors with the same name, address, and year. Keep the total contribution for each year. \n",
    "FAANG_sorted = FAANG_sorted.drop_duplicates(['contributor_name','report_year', 'contributor_street_1'])\n",
    "\n",
    "# Drop duplicates of employees with the same last name and street address; this removes employees\n",
    "# who altered their first name (E.g., Stefan vs Stephan)\n",
    "FAANG_sorted = FAANG_sorted.drop_duplicates(['contributor_last_name', 'report_year', 'contributor_employer', 'contributor_street_1'])\n",
    "\n",
    "# Drop duplicates of employees who moved addresses and stayed within the same city \n",
    "FAANG_sorted = FAANG_sorted.drop_duplicates(['contributor_last_name', 'report_year', 'contributor_employer', 'contributor_city'])\n",
    "\n",
    "# Drop duplicates of employees who moved between cities \n",
    "FAANG_sorted = FAANG_sorted.drop_duplicates(['contributor_name', 'report_year', 'contributor_employer'])\n"
   ]
  },
  {
   "cell_type": "code",
   "execution_count": 121,
   "metadata": {},
   "outputs": [],
   "source": [
    "# Select company for analysis \n",
    "company_name = 'Microsoft'\n",
    "\n",
    "# Create dataframe 'company' of all political contributions at that company\n",
    "company = FAANG_sorted[FAANG_sorted['contributor_employer']==company_name]\n",
    "\n",
    "# Create dataframe 'Trump' of all political contributions to Trump campaigns at 'company'\n",
    "Trump = company[company['committee_name'].str.contains('TRUMP')]\n",
    "\n",
    "#Create dataframe 'Biden' of all political contributions to Biden campaign at 'company'\n",
    "Biden = company[company['committee_name'].str.contains('BIDEN')]\n"
   ]
  },
  {
   "cell_type": "code",
   "execution_count": 124,
   "metadata": {},
   "outputs": [],
   "source": [
    "#Select committee for analysis\n",
    "\n",
    "committee = 'Trump'\n",
    "\n",
    "\n",
    "if committee == 'Trump':\n",
    "    campaign = Trump\n",
    "elif committee == 'Biden':\n",
    "    campaign = Biden\n"
   ]
  },
  {
   "cell_type": "code",
   "execution_count": 125,
   "metadata": {},
   "outputs": [
    {
     "name": "stdout",
     "output_type": "stream",
     "text": [
      "Company:  Microsoft\n",
      "Campaign: Trump\n",
      "Total donations to Trump campaign: 75428\n",
      "Number of people who contributed to the Trump campaign in both 2019 and 2020: 41\n",
      "Number of individual contributors to the Trump campaign: 141\n"
     ]
    }
   ],
   "source": [
    "# ANALYSIS\n",
    "\n",
    "print('Company:  {}'.format(company_name))\n",
    "print('Campaign: {}'.format(committee))\n",
    "\n",
    "print('Total donations to {} campaign: '.format(committee) + \n",
    "      str(int(campaign['contributor_aggregate_ytd'].sum())))\n",
    "\n",
    "print('Number of people who contributed to the {} campaign in both 2019 and 2020: '.format(committee) +\n",
    "      str(campaign[campaign.duplicated(['contributor_name'])]['contributor_name'].count()))\n",
    "\n",
    "print('Number of individual contributors to the {} campaign: '.format(committee) + \n",
    "      str(campaign['contributor_name'].nunique())) "
   ]
  },
  {
   "cell_type": "code",
   "execution_count": null,
   "metadata": {},
   "outputs": [],
   "source": []
  }
 ],
 "metadata": {
  "kernelspec": {
   "display_name": "Python 3",
   "language": "python",
   "name": "python3"
  },
  "language_info": {
   "codemirror_mode": {
    "name": "ipython",
    "version": 3
   },
   "file_extension": ".py",
   "mimetype": "text/x-python",
   "name": "python",
   "nbconvert_exporter": "python",
   "pygments_lexer": "ipython3",
   "version": "3.7.4"
  }
 },
 "nbformat": 4,
 "nbformat_minor": 2
}
